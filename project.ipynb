{
 "cells": [
  {
   "cell_type": "markdown",
   "id": "124e5672",
   "metadata": {},
   "source": [
    "# Custom Chatbot Project"
   ]
  },
  {
   "cell_type": "code",
   "execution_count": 1,
   "id": "9c07a6ef",
   "metadata": {},
   "outputs": [
    {
     "name": "stdout",
     "output_type": "stream",
     "text": [
      "Requirement already satisfied: aiohttp==3.9.5 in ./.env/lib/python3.9/site-packages (from -r requirements.txt (line 1)) (3.9.5)\n",
      "Requirement already satisfied: aiosignal==1.3.1 in ./.env/lib/python3.9/site-packages (from -r requirements.txt (line 2)) (1.3.1)\n",
      "Requirement already satisfied: async-timeout==4.0.3 in ./.env/lib/python3.9/site-packages (from -r requirements.txt (line 3)) (4.0.3)\n",
      "Requirement already satisfied: attrs==23.2.0 in ./.env/lib/python3.9/site-packages (from -r requirements.txt (line 4)) (23.2.0)\n",
      "Requirement already satisfied: certifi==2024.2.2 in ./.env/lib/python3.9/site-packages (from -r requirements.txt (line 5)) (2024.2.2)\n",
      "Requirement already satisfied: charset-normalizer==3.3.2 in ./.env/lib/python3.9/site-packages (from -r requirements.txt (line 6)) (3.3.2)\n",
      "Requirement already satisfied: comet-ml==3.41.0 in ./.env/lib/python3.9/site-packages (from -r requirements.txt (line 7)) (3.41.0)\n",
      "Requirement already satisfied: comet_llm==2.2.2 in ./.env/lib/python3.9/site-packages (from -r requirements.txt (line 8)) (2.2.2)\n",
      "Requirement already satisfied: configobj==5.0.8 in ./.env/lib/python3.9/site-packages (from -r requirements.txt (line 9)) (5.0.8)\n",
      "Requirement already satisfied: dulwich==0.22.1 in ./.env/lib/python3.9/site-packages (from -r requirements.txt (line 10)) (0.22.1)\n",
      "Requirement already satisfied: everett==3.1.0 in ./.env/lib/python3.9/site-packages (from -r requirements.txt (line 11)) (3.1.0)\n",
      "Requirement already satisfied: flatten-dict==0.4.2 in ./.env/lib/python3.9/site-packages (from -r requirements.txt (line 12)) (0.4.2)\n",
      "Requirement already satisfied: frozenlist==1.4.1 in ./.env/lib/python3.9/site-packages (from -r requirements.txt (line 13)) (1.4.1)\n",
      "Requirement already satisfied: idna==3.7 in ./.env/lib/python3.9/site-packages (from -r requirements.txt (line 14)) (3.7)\n",
      "Requirement already satisfied: jsonschema==4.21.1 in ./.env/lib/python3.9/site-packages (from -r requirements.txt (line 15)) (4.21.1)\n",
      "Requirement already satisfied: jsonschema-specifications==2023.12.1 in ./.env/lib/python3.9/site-packages (from -r requirements.txt (line 16)) (2023.12.1)\n",
      "Requirement already satisfied: markdown-it-py==3.0.0 in ./.env/lib/python3.9/site-packages (from -r requirements.txt (line 17)) (3.0.0)\n",
      "Requirement already satisfied: mdurl==0.1.2 in ./.env/lib/python3.9/site-packages (from -r requirements.txt (line 18)) (0.1.2)\n",
      "Requirement already satisfied: multidict==6.0.5 in ./.env/lib/python3.9/site-packages (from -r requirements.txt (line 19)) (6.0.5)\n",
      "Requirement already satisfied: openai==0.28.0 in ./.env/lib/python3.9/site-packages (from -r requirements.txt (line 20)) (0.28.0)\n",
      "Requirement already satisfied: psutil==5.9.8 in ./.env/lib/python3.9/site-packages (from -r requirements.txt (line 21)) (5.9.8)\n",
      "Requirement already satisfied: Pygments==2.17.2 in ./.env/lib/python3.9/site-packages (from -r requirements.txt (line 22)) (2.17.2)\n",
      "Requirement already satisfied: python-box==6.1.0 in ./.env/lib/python3.9/site-packages (from -r requirements.txt (line 23)) (6.1.0)\n",
      "Requirement already satisfied: referencing==0.35.0 in ./.env/lib/python3.9/site-packages (from -r requirements.txt (line 24)) (0.35.0)\n",
      "Requirement already satisfied: requests==2.31.0 in ./.env/lib/python3.9/site-packages (from -r requirements.txt (line 25)) (2.31.0)\n",
      "Requirement already satisfied: requests-toolbelt==1.0.0 in ./.env/lib/python3.9/site-packages (from -r requirements.txt (line 26)) (1.0.0)\n",
      "Requirement already satisfied: rich==13.7.1 in ./.env/lib/python3.9/site-packages (from -r requirements.txt (line 27)) (13.7.1)\n",
      "Requirement already satisfied: rpds-py==0.18.0 in ./.env/lib/python3.9/site-packages (from -r requirements.txt (line 28)) (0.18.0)\n",
      "Requirement already satisfied: semantic-version==2.10.0 in ./.env/lib/python3.9/site-packages (from -r requirements.txt (line 29)) (2.10.0)\n",
      "Requirement already satisfied: sentry-sdk==2.0.0 in ./.env/lib/python3.9/site-packages (from -r requirements.txt (line 30)) (2.0.0)\n",
      "Requirement already satisfied: simplejson==3.19.2 in ./.env/lib/python3.9/site-packages (from -r requirements.txt (line 31)) (3.19.2)\n",
      "Requirement already satisfied: six==1.16.0 in ./.env/lib/python3.9/site-packages (from -r requirements.txt (line 32)) (1.16.0)\n",
      "Requirement already satisfied: tqdm==4.66.2 in ./.env/lib/python3.9/site-packages (from -r requirements.txt (line 33)) (4.66.2)\n",
      "Requirement already satisfied: types-requests==2.31.0.20240406 in ./.env/lib/python3.9/site-packages (from -r requirements.txt (line 34)) (2.31.0.20240406)\n",
      "Requirement already satisfied: urllib3==2.2.1 in ./.env/lib/python3.9/site-packages (from -r requirements.txt (line 35)) (2.2.1)\n",
      "Requirement already satisfied: websocket-client==1.3.3 in ./.env/lib/python3.9/site-packages (from -r requirements.txt (line 36)) (1.3.3)\n",
      "Requirement already satisfied: wrapt==1.16.0 in ./.env/lib/python3.9/site-packages (from -r requirements.txt (line 37)) (1.16.0)\n",
      "Requirement already satisfied: wurlitzer==3.0.3 in ./.env/lib/python3.9/site-packages (from -r requirements.txt (line 38)) (3.0.3)\n",
      "Requirement already satisfied: yarl==1.9.4 in ./.env/lib/python3.9/site-packages (from -r requirements.txt (line 39)) (1.9.4)\n",
      "\u001b[33mWARNING: You are using pip version 21.2.4; however, version 24.0 is available.\n",
      "You should consider upgrading via the '/Users/hsin-wenchang/Documents/GitHub/Project-Build-Custom-Chatbot/.env/bin/python3 -m pip install --upgrade pip' command.\u001b[0m\n"
     ]
    }
   ],
   "source": [
    "!pip3 install -r requirements.txt"
   ]
  },
  {
   "cell_type": "code",
   "execution_count": 267,
   "id": "3044467b",
   "metadata": {},
   "outputs": [
    {
     "name": "stderr",
     "output_type": "stream",
     "text": [
      "\u001b[1;38;5;214mCOMET WARNING:\u001b[0m To get all data logged automatically, import comet_ml before the following modules: sklearn, torch.\n",
      "\u001b[1;38;5;214mCOMET WARNING:\u001b[0m As you are running in a Jupyter environment, you will need to call `experiment.end()` when finished to ensure all metrics and code are logged before exiting.\n",
      "\u001b[1;38;5;39mCOMET INFO:\u001b[0m Experiment is live on comet.com https://www.comet.com/polarbeargo/build-custom-chatbot/305292f043f84e3d8f268ac1901e4ae8\n",
      "\n"
     ]
    }
   ],
   "source": [
    "from comet_ml import Experiment\n",
    "import openai\n",
    "import numpy as np\n",
    "from pathlib import Path\n",
    "from datasets import Dataset, load_dataset\n",
    "import comet_llm\n",
    "import os\n",
    "import pandas as pd\n",
    "from comet_llm import Span, end_chain, start_chain\n",
    "from sentence_transformers import SentenceTransformer\n",
    "from sklearn.metrics.pairwise import cosine_similarity\n",
    "from typing import Union\n",
    "from dotenv import load_dotenv\n",
    "\n",
    "load_dotenv('my_config.env')\n",
    "\n",
    "# API configuration\n",
    "openai.api_key = os.getenv(\"OPENAI_API_KEY\")\n",
    "COMET_API_KEY = os.getenv(\"COMET_API_KEY\")\n",
    "\n",
    "\n",
    "# Initialize the experiment\n",
    "experiment = Experiment(\n",
    "    api_key=COMET_API_KEY,\n",
    "    project_name=\"build-custom-chatbot\",\n",
    "    workspace=\"polarbeargo\",\n",
    "    log_code=True,\n",
    ")\n"
   ]
  },
  {
   "cell_type": "markdown",
   "id": "2a4a94b3",
   "metadata": {},
   "source": [
    "In this cell, write an explanation of which dataset you have chosen and why it is appropriate for this task\n",
    "`nyc_food_scrap_drop_off_sites.csv` - This file contains information on food scrap drop-off stations in New York City, such as their locations and hours of operation. The data was obtained in the beginning of 2023."
   ]
  },
  {
   "cell_type": "markdown",
   "id": "a63d4c5f",
   "metadata": {},
   "source": [
    "## Data Wrangling\n",
    "\n",
    "In the cells below, load your chosen dataset into a `pandas` dataframe with a column named `\"text\"`. This column should contain all of your text data, separated into at least 20 rows."
   ]
  },
  {
   "cell_type": "code",
   "execution_count": 236,
   "id": "c1094e49",
   "metadata": {},
   "outputs": [],
   "source": [
    "\n",
    "file_path = 'data/nyc_food_scrap_drop_off_sites.csv'\n",
    "with open(file_path, 'r') as file:\n",
    "    next(file)\n",
    "    lines = [line.strip() for line in file]\n",
    "\n",
    "df = pd.DataFrame(lines, columns=[\"text\"])"
   ]
  },
  {
   "cell_type": "code",
   "execution_count": 237,
   "id": "85b1013b",
   "metadata": {},
   "outputs": [
    {
     "data": {
      "text/html": [
       "<div>\n",
       "<style scoped>\n",
       "    .dataframe tbody tr th:only-of-type {\n",
       "        vertical-align: middle;\n",
       "    }\n",
       "\n",
       "    .dataframe tbody tr th {\n",
       "        vertical-align: top;\n",
       "    }\n",
       "\n",
       "    .dataframe thead th {\n",
       "        text-align: right;\n",
       "    }\n",
       "</style>\n",
       "<table border=\"1\" class=\"dataframe\">\n",
       "  <thead>\n",
       "    <tr style=\"text-align: right;\">\n",
       "      <th></th>\n",
       "      <th>text</th>\n",
       "    </tr>\n",
       "  </thead>\n",
       "  <tbody>\n",
       "    <tr>\n",
       "      <th>0</th>\n",
       "      <td>0,Staten Island,Grasmere-Arrochar-South Beach-...</td>\n",
       "    </tr>\n",
       "    <tr>\n",
       "      <th>1</th>\n",
       "      <td>1,Manhattan,Inwood,SE Corner of Broadway &amp; Aca...</td>\n",
       "    </tr>\n",
       "    <tr>\n",
       "      <th>2</th>\n",
       "      <td>2,Brooklyn,Park Slope,Old Stone House Brooklyn...</td>\n",
       "    </tr>\n",
       "    <tr>\n",
       "      <th>3</th>\n",
       "      <td>3,Manhattan,East Harlem (North),SE Corner of P...</td>\n",
       "    </tr>\n",
       "    <tr>\n",
       "      <th>4</th>\n",
       "      <td>4,Queens,Corona,Malcolm X FSDO,\"111-26 Norther...</td>\n",
       "    </tr>\n",
       "  </tbody>\n",
       "</table>\n",
       "</div>"
      ],
      "text/plain": [
       "                                                text\n",
       "0  0,Staten Island,Grasmere-Arrochar-South Beach-...\n",
       "1  1,Manhattan,Inwood,SE Corner of Broadway & Aca...\n",
       "2  2,Brooklyn,Park Slope,Old Stone House Brooklyn...\n",
       "3  3,Manhattan,East Harlem (North),SE Corner of P...\n",
       "4  4,Queens,Corona,Malcolm X FSDO,\"111-26 Norther..."
      ]
     },
     "execution_count": 237,
     "metadata": {},
     "output_type": "execute_result"
    }
   ],
   "source": [
    "df.head()"
   ]
  },
  {
   "cell_type": "code",
   "execution_count": 238,
   "id": "d1f17c40",
   "metadata": {},
   "outputs": [],
   "source": [
    "df.to_csv('data/data_wrangling.csv')"
   ]
  },
  {
   "cell_type": "code",
   "execution_count": 239,
   "id": "df317701",
   "metadata": {},
   "outputs": [
    {
     "data": {
      "text/html": [
       "<div>\n",
       "<style scoped>\n",
       "    .dataframe tbody tr th:only-of-type {\n",
       "        vertical-align: middle;\n",
       "    }\n",
       "\n",
       "    .dataframe tbody tr th {\n",
       "        vertical-align: top;\n",
       "    }\n",
       "\n",
       "    .dataframe thead th {\n",
       "        text-align: right;\n",
       "    }\n",
       "</style>\n",
       "<table border=\"1\" class=\"dataframe\">\n",
       "  <thead>\n",
       "    <tr style=\"text-align: right;\">\n",
       "      <th></th>\n",
       "      <th>text</th>\n",
       "    </tr>\n",
       "  </thead>\n",
       "  <tbody>\n",
       "    <tr>\n",
       "      <th>0</th>\n",
       "      <td>Staten Island,Grasmere-Arrochar-South Beach-Do...</td>\n",
       "    </tr>\n",
       "    <tr>\n",
       "      <th>1</th>\n",
       "      <td>Manhattan,Inwood,SE Corner of Broadway &amp; Acade...</td>\n",
       "    </tr>\n",
       "    <tr>\n",
       "      <th>2</th>\n",
       "      <td>Brooklyn,Park Slope,Old Stone House Brooklyn,\"...</td>\n",
       "    </tr>\n",
       "    <tr>\n",
       "      <th>3</th>\n",
       "      <td>Manhattan,East Harlem (North),SE Corner of Ple...</td>\n",
       "    </tr>\n",
       "    <tr>\n",
       "      <th>4</th>\n",
       "      <td>Queens,Corona,Malcolm X FSDO,\"111-26 Northern ...</td>\n",
       "    </tr>\n",
       "    <tr>\n",
       "      <th>5</th>\n",
       "      <td>Queens,Astoria (North)-Ditmars-Steinway,Astori...</td>\n",
       "    </tr>\n",
       "    <tr>\n",
       "      <th>6</th>\n",
       "      <td>Bronx,Norwood,SE Corner of Kings College Place...</td>\n",
       "    </tr>\n",
       "    <tr>\n",
       "      <th>7</th>\n",
       "      <td>Brooklyn,Bedford-Stuyvesant (East),NW Corner o...</td>\n",
       "    </tr>\n",
       "    <tr>\n",
       "      <th>8</th>\n",
       "      <td>Queens,Astoria (Central),Astoria Pug: Broadway...</td>\n",
       "    </tr>\n",
       "    <tr>\n",
       "      <th>9</th>\n",
       "      <td>Bronx,Mount Eden-Claremont (West),SE Corner of...</td>\n",
       "    </tr>\n",
       "    <tr>\n",
       "      <th>10</th>\n",
       "      <td>Bronx,Fordham Heights,SE Corner of Field Place...</td>\n",
       "    </tr>\n",
       "    <tr>\n",
       "      <th>11</th>\n",
       "      <td>Queens,Queensbridge-Ravenswood-Dutch Kills,Com...</td>\n",
       "    </tr>\n",
       "    <tr>\n",
       "      <th>12</th>\n",
       "      <td>Brooklyn,Crown Heights (North),Walt L Shamel C...</td>\n",
       "    </tr>\n",
       "    <tr>\n",
       "      <th>13</th>\n",
       "      <td>Brooklyn,Prospect Heights,Underhill Avenue &amp; P...</td>\n",
       "    </tr>\n",
       "    <tr>\n",
       "      <th>14</th>\n",
       "      <td>Manhattan,Morningside Heights,SW Corner of Wes...</td>\n",
       "    </tr>\n",
       "    <tr>\n",
       "      <th>15</th>\n",
       "      <td>Queens,Astoria (Central),SW Corner of 33rd Str...</td>\n",
       "    </tr>\n",
       "    <tr>\n",
       "      <th>16</th>\n",
       "      <td>Queens,Long Island City-Hunters Point,The Conn...</td>\n",
       "    </tr>\n",
       "    <tr>\n",
       "      <th>17</th>\n",
       "      <td>Brooklyn,Sunset Park (West),Los Colibríes Comm...</td>\n",
       "    </tr>\n",
       "    <tr>\n",
       "      <th>18</th>\n",
       "      <td>Manhattan,Lower East Side,Grand Street &amp; Clint...</td>\n",
       "    </tr>\n",
       "    <tr>\n",
       "      <th>19</th>\n",
       "      <td>Bronx,Tremont,La Familia Verde Farmer's Market...</td>\n",
       "    </tr>\n",
       "  </tbody>\n",
       "</table>\n",
       "</div>"
      ],
      "text/plain": [
       "                                                 text\n",
       "0   Staten Island,Grasmere-Arrochar-South Beach-Do...\n",
       "1   Manhattan,Inwood,SE Corner of Broadway & Acade...\n",
       "2   Brooklyn,Park Slope,Old Stone House Brooklyn,\"...\n",
       "3   Manhattan,East Harlem (North),SE Corner of Ple...\n",
       "4   Queens,Corona,Malcolm X FSDO,\"111-26 Northern ...\n",
       "5   Queens,Astoria (North)-Ditmars-Steinway,Astori...\n",
       "6   Bronx,Norwood,SE Corner of Kings College Place...\n",
       "7   Brooklyn,Bedford-Stuyvesant (East),NW Corner o...\n",
       "8   Queens,Astoria (Central),Astoria Pug: Broadway...\n",
       "9   Bronx,Mount Eden-Claremont (West),SE Corner of...\n",
       "10  Bronx,Fordham Heights,SE Corner of Field Place...\n",
       "11  Queens,Queensbridge-Ravenswood-Dutch Kills,Com...\n",
       "12  Brooklyn,Crown Heights (North),Walt L Shamel C...\n",
       "13  Brooklyn,Prospect Heights,Underhill Avenue & P...\n",
       "14  Manhattan,Morningside Heights,SW Corner of Wes...\n",
       "15  Queens,Astoria (Central),SW Corner of 33rd Str...\n",
       "16  Queens,Long Island City-Hunters Point,The Conn...\n",
       "17  Brooklyn,Sunset Park (West),Los Colibríes Comm...\n",
       "18  Manhattan,Lower East Side,Grand Street & Clint...\n",
       "19  Bronx,Tremont,La Familia Verde Farmer's Market..."
      ]
     },
     "execution_count": 239,
     "metadata": {},
     "output_type": "execute_result"
    }
   ],
   "source": [
    "df['text'] = df['text'].str.replace(r'^\\d+,', '', regex=True)\n",
    "df.head(20).to_csv(\"data/data_wrangling_sample.csv\")\n",
    "df.head(20)\n"
   ]
  },
  {
   "cell_type": "code",
   "execution_count": 240,
   "id": "6612a7a7",
   "metadata": {},
   "outputs": [],
   "source": [
    "MODEL_NAME = 'paraphrase-MiniLM-L6-v2'\n",
    "df = pd.read_csv('data/data_wrangling_sample.csv')\n",
    "\n",
    "def generate_embeddings(input_data: Union[str, list[str]]) -> np.ndarray:    \n",
    "    model = SentenceTransformer(MODEL_NAME)\n",
    "    embeddings = model.encode(input_data)\n",
    "    return embeddings\n",
    "\n",
    "df['embedding'] = df.text.apply(lambda x: generate_embeddings(x))\n",
    "df.to_csv('embeddings.csv', index=False)"
   ]
  },
  {
   "cell_type": "code",
   "execution_count": 294,
   "id": "97acd282",
   "metadata": {},
   "outputs": [
    {
     "data": {
      "text/html": [
       "<div>\n",
       "<style scoped>\n",
       "    .dataframe tbody tr th:only-of-type {\n",
       "        vertical-align: middle;\n",
       "    }\n",
       "\n",
       "    .dataframe tbody tr th {\n",
       "        vertical-align: top;\n",
       "    }\n",
       "\n",
       "    .dataframe thead th {\n",
       "        text-align: right;\n",
       "    }\n",
       "</style>\n",
       "<table border=\"1\" class=\"dataframe\">\n",
       "  <thead>\n",
       "    <tr style=\"text-align: right;\">\n",
       "      <th></th>\n",
       "      <th>text</th>\n",
       "      <th>embedding</th>\n",
       "    </tr>\n",
       "  </thead>\n",
       "  <tbody>\n",
       "    <tr>\n",
       "      <th>0</th>\n",
       "      <td>Staten Island,Grasmere-Arrochar-South Beach-Do...</td>\n",
       "      <td>[-3.98153216e-02 -4.14079800e-02  5.66049144e-...</td>\n",
       "    </tr>\n",
       "    <tr>\n",
       "      <th>1</th>\n",
       "      <td>Manhattan,Inwood,SE Corner of Broadway &amp; Acade...</td>\n",
       "      <td>[ 0.13020103 -0.13104136 -0.2690476  -0.235636...</td>\n",
       "    </tr>\n",
       "    <tr>\n",
       "      <th>2</th>\n",
       "      <td>Brooklyn,Park Slope,Old Stone House Brooklyn,\"...</td>\n",
       "      <td>[-0.00706969  0.02325399 -0.0220314   0.036282...</td>\n",
       "    </tr>\n",
       "    <tr>\n",
       "      <th>3</th>\n",
       "      <td>Manhattan,East Harlem (North),SE Corner of Ple...</td>\n",
       "      <td>[ 1.58163443e-01 -9.84401628e-02 -2.88609684e-...</td>\n",
       "    </tr>\n",
       "    <tr>\n",
       "      <th>4</th>\n",
       "      <td>Queens,Corona,Malcolm X FSDO,\"111-26 Northern ...</td>\n",
       "      <td>[-0.22042143 -0.17215516 -0.04905648 -0.030325...</td>\n",
       "    </tr>\n",
       "  </tbody>\n",
       "</table>\n",
       "</div>"
      ],
      "text/plain": [
       "                                                text  \\\n",
       "0  Staten Island,Grasmere-Arrochar-South Beach-Do...   \n",
       "1  Manhattan,Inwood,SE Corner of Broadway & Acade...   \n",
       "2  Brooklyn,Park Slope,Old Stone House Brooklyn,\"...   \n",
       "3  Manhattan,East Harlem (North),SE Corner of Ple...   \n",
       "4  Queens,Corona,Malcolm X FSDO,\"111-26 Northern ...   \n",
       "\n",
       "                                           embedding  \n",
       "0  [-3.98153216e-02 -4.14079800e-02  5.66049144e-...  \n",
       "1  [ 0.13020103 -0.13104136 -0.2690476  -0.235636...  \n",
       "2  [-0.00706969  0.02325399 -0.0220314   0.036282...  \n",
       "3  [ 1.58163443e-01 -9.84401628e-02 -2.88609684e-...  \n",
       "4  [-0.22042143 -0.17215516 -0.04905648 -0.030325...  "
      ]
     },
     "execution_count": 294,
     "metadata": {},
     "output_type": "execute_result"
    }
   ],
   "source": [
    "df = pd.read_csv(\"embeddings.csv\")\n",
    "df = df.drop(\"Unnamed: 0\", axis=1)\n",
    "df.head()"
   ]
  },
  {
   "cell_type": "markdown",
   "id": "ae769871",
   "metadata": {},
   "source": [
    "## Custom Query Completion\n",
    "\n",
    "In the cells below, compose a custom query using your chosen dataset and retrieve results from an OpenAI `Completion` model."
   ]
  },
  {
   "cell_type": "code",
   "execution_count": 296,
   "id": "a30fa0e5",
   "metadata": {},
   "outputs": [],
   "source": [
    "def get_completion(messages):\n",
    "    response = openai.ChatCompletion.create(\n",
    "        model=\"gpt-3.5-turbo\",\n",
    "        messages=messages,\n",
    "        max_tokens=100,\n",
    "    )\n",
    "    return response.choices[0].message[\"content\"]\n",
    "\n",
    "def simple_prompt(question):\n",
    "        return [\n",
    "            {\"role\": \"user\", \"content\": question}\n",
    "        ]\n",
    "\n",
    "def custom_prompt(question, df):\n",
    "        return [\n",
    "            {\"role\": \"system\", \"content\": \"\"\"You are a helpful assistant that provides information about food scrap drop-off sites. Answer the question base on context below. Context: \n",
    "                {}\n",
    "            \"\"\".format('\\n\\n'.join(custom_query(question, df)))},\n",
    "            {\"role\": \"user\", \"content\": question}\n",
    "        ]\n",
    "\n",
    "def custom_query(question, df):\n",
    "    embeddings_array = generate_embeddings([question])\n",
    "    df_copy = df.copy()\n",
    "    df_copy[\"similarity\"] = df_copy[\"embedding\"].apply(lambda emb: cosine_similarity([emb], embeddings_array))\n",
    "    df_copy.sort_values(\"similarity\", ascending=True, inplace=True)\n",
    "    return df_copy.iloc[:5]['text'].tolist()\n",
    "    \n"
   ]
  },
  {
   "cell_type": "markdown",
   "id": "1783f146",
   "metadata": {},
   "source": [
    "## Custom Performance Demonstration\n",
    "\n",
    "In the cells below, demonstrate the performance of your custom query using at least 2 questions. For each question, show the answer from a basic `Completion` model query as well as the answer from your custom query."
   ]
  },
  {
   "cell_type": "code",
   "execution_count": 297,
   "id": "13e34775",
   "metadata": {},
   "outputs": [
    {
     "name": "stderr",
     "output_type": "stream",
     "text": [
      "\u001b[1;38;5;214mCOMET WARNING:\u001b[0m Passed step value \"I'm sorry, but based on the information provided, there are no specific food scrap drop-off sites listed for Brooklyn in the given context. The locations mentioned are in Queens, Staten Island, and the Bronx. If you are looking for food scrap drop-off sites in Brooklyn, I recommend checking the NYC Department of Sanitation website or contacting local community gardens or farmers markets in Brooklyn for more information on drop-off locations in that borough.\" is not a number, ignoring it\n",
      "\u001b[1;38;5;214mCOMET WARNING:\u001b[0m Passed step value 'As of my last update, here are some of the food scrap drop-off sites in Brooklyn:\\n\\n1. Prospect Park Greenmarket: Located at Breeze Hill in Prospect Park, this market accepts food scraps for composting every Saturday from 8am-3pm.\\n\\n2. Grand Army Plaza Greenmarket: Located at the northwest entrance of Prospect Park, this market also accepts food scraps for composting every Saturday from 8am-4pm.\\n\\n3. Bay Ridge Greenmarket: Located at 940' is not a number, ignoring it\n"
     ]
    },
    {
     "name": "stdout",
     "output_type": "stream",
     "text": [
      "Answer without context: \n",
      " As of my last update, here are some of the food scrap drop-off sites in Brooklyn:\n",
      "\n",
      "1. Prospect Park Greenmarket: Located at Breeze Hill in Prospect Park, this market accepts food scraps for composting every Saturday from 8am-3pm.\n",
      "\n",
      "2. Grand Army Plaza Greenmarket: Located at the northwest entrance of Prospect Park, this market also accepts food scraps for composting every Saturday from 8am-4pm.\n",
      "\n",
      "3. Bay Ridge Greenmarket: Located at 940\n",
      "Answer with context: \n",
      " I'm sorry, but based on the information provided, there are no specific food scrap drop-off sites listed for Brooklyn in the given context. The locations mentioned are in Queens, Staten Island, and the Bronx. If you are looking for food scrap drop-off sites in Brooklyn, I recommend checking the NYC Department of Sanitation website or contacting local community gardens or farmers markets in Brooklyn for more information on drop-off locations in that borough.\n"
     ]
    },
    {
     "data": {
      "text/plain": [
       "{'web': 'https://www.comet.com/api/asset/download?assetId=7cc142f455054935a5e9543201f562ec&experimentKey=305292f043f84e3d8f268ac1901e4ae8',\n",
       " 'api': 'https://www.comet.com/api/rest/v2/experiment/asset/get-asset?assetId=7cc142f455054935a5e9543201f562ec&experimentKey=305292f043f84e3d8f268ac1901e4ae8',\n",
       " 'assetId': '7cc142f455054935a5e9543201f562ec'}"
      ]
     },
     "execution_count": 297,
     "metadata": {},
     "output_type": "execute_result"
    }
   ],
   "source": [
    "question_1 = \"What are the food scrap drop-off sites in Brooklyn?\"\n",
    "df['embedding'] = df['embedding'].apply(lambda x: [float(val) for val in x.strip('[]').split()])\n",
    "custom_response = get_completion(custom_prompt(question_1, df))\n",
    "basic_response = get_completion(simple_prompt(question_1))\n",
    "print('Answer without context: \\n', basic_response)\n",
    "print('Answer with context: \\n', custom_response)\n",
    "experiment.log_text(\"Custom Response\", custom_response)\n",
    "experiment.log_text(\"Basic Response\", basic_response)"
   ]
  },
  {
   "cell_type": "code",
   "execution_count": 298,
   "id": "ac6b808b",
   "metadata": {},
   "outputs": [
    {
     "name": "stderr",
     "output_type": "stream",
     "text": [
      "\u001b[1;38;5;214mCOMET WARNING:\u001b[0m Passed step value 'There is a food scrap drop-off site in Manhattan located at the SE Corner of Eastburn Avenue & East 174th Street. This site is managed by the Department of Sanitation and is available year-round, 24/7. For more information, you can visit www.nyc.gov/smartcomposting. This location accepts all food scraps, including meat and dairy products.' is not a number, ignoring it\n",
      "\u001b[1;38;5;214mCOMET WARNING:\u001b[0m Passed step value 'As of my knowledge cut-off date in September 2021, some of the food scrap drop-off sites in Manhattan include:\\n\\n1. Union Square Greenmarket (Union Square Park North Plaza)\\n2. Tompkins Square Greenmarket (Avenue A and East 7th Street)\\n3. Inwood Greenmarket (Isham Street between Seaman Avenue and Cooper Street)\\n4. Tribeca Greenmarket (Greenwich Street at Chambers Street)\\n5. Dag Hammarskjold Plaza Greenmarket' is not a number, ignoring it\n"
     ]
    },
    {
     "name": "stdout",
     "output_type": "stream",
     "text": [
      "Answer without context: \n",
      " As of my knowledge cut-off date in September 2021, some of the food scrap drop-off sites in Manhattan include:\n",
      "\n",
      "1. Union Square Greenmarket (Union Square Park North Plaza)\n",
      "2. Tompkins Square Greenmarket (Avenue A and East 7th Street)\n",
      "3. Inwood Greenmarket (Isham Street between Seaman Avenue and Cooper Street)\n",
      "4. Tribeca Greenmarket (Greenwich Street at Chambers Street)\n",
      "5. Dag Hammarskjold Plaza Greenmarket\n",
      "Answer with context: \n",
      " There is a food scrap drop-off site in Manhattan located at the SE Corner of Eastburn Avenue & East 174th Street. This site is managed by the Department of Sanitation and is available year-round, 24/7. For more information, you can visit www.nyc.gov/smartcomposting. This location accepts all food scraps, including meat and dairy products.\n"
     ]
    },
    {
     "data": {
      "text/plain": [
       "{'web': 'https://www.comet.com/api/asset/download?assetId=50fb4a99b06c457c83b94fa6e03c713c&experimentKey=305292f043f84e3d8f268ac1901e4ae8',\n",
       " 'api': 'https://www.comet.com/api/rest/v2/experiment/asset/get-asset?assetId=50fb4a99b06c457c83b94fa6e03c713c&experimentKey=305292f043f84e3d8f268ac1901e4ae8',\n",
       " 'assetId': '50fb4a99b06c457c83b94fa6e03c713c'}"
      ]
     },
     "execution_count": 298,
     "metadata": {},
     "output_type": "execute_result"
    }
   ],
   "source": [
    "question_2 = \"What are the food scrap drop-off sites in Manhattan?\"\n",
    "custom_response = get_completion(custom_prompt(question_2, df))\n",
    "basic_response = get_completion(simple_prompt(question_2))\n",
    "print('Answer without context: \\n', basic_response)\n",
    "print('Answer with context: \\n', custom_response)\n",
    "experiment.log_text(\"Custom Response\", custom_response)\n",
    "experiment.log_text(\"Basic Response\", basic_response)"
   ]
  },
  {
   "cell_type": "markdown",
   "id": "bf0cb7a9",
   "metadata": {},
   "source": [
    "The method below retrieves the full response (by chain-of-thought) before extracting the final response based on the user's question. Using Comet's prompt chains logging features, it logs the final response and the CoT findings for each question. "
   ]
  },
  {
   "cell_type": "code",
   "execution_count": 300,
   "id": "6ee7b439",
   "metadata": {},
   "outputs": [],
   "source": [
    "prompt = \"\"\"\n",
    "Property 1 : Food Scrap Drop-off Site at South Beach\n",
    "\n",
    "Neighborhood : Grasmere-Arrochar-South Beach-Dongan Hills\n",
    "Location : 21 Robin Road, Staten Island NY\n",
    "Hosted By : Snug Harbor Youth\n",
    "Open Months : Year Round\n",
    "Operation Hours : Friday (Start Time: 1:30 PM - End Time: 4:30 PM)\n",
    "Website : snug-harbor.org(opens in a new tab)\n",
    "Coordinates : Latitude 40.595579, Longitude -74.062991\n",
    "Notes : This site accepts all food scraps. Please compost responsibly.\n",
    "Property 2 : Food Scrap Drop-off Site at Inwood\n",
    "\n",
    "Neighborhood : Inwood\n",
    "Location : SE Corner of Broadway & Academy Street\n",
    "Hosted By : Department of Sanitation\n",
    "Open Months : Year Round\n",
    "Operation Hours : 24/7\n",
    "Website : www.nyc.gov/smartcomposting(opens in a new tab)\n",
    "Coordinates : Not specified\n",
    "Notes : Download the app to access bins. Accepts all food scraps, including meat and dairy. Do not leave food scraps outside of bin!\n",
    "Property 3 : Food Scrap Drop-off Site at Old Stone House Brooklyn\n",
    "\n",
    "Neighborhood : Park Slope\n",
    "Location : 336 3rd St, Brooklyn, NY 11215\n",
    "Hosted By : Old Stone House Brooklyn\n",
    "Open Months : Year Round\n",
    "Operation Hours : 24/7\n",
    "Website : Not specified\n",
    "Coordinates : Latitude 40.6727118, Longitude -73.984731\n",
    "Notes : This site accepts all food scraps. Please compost responsibly.\n",
    "Property 4 : Food Scrap Drop-off Site at East Harlem\n",
    "\n",
    "Neighborhood : East Harlem (North)\n",
    "Location : SE Corner of Pleasant Avenue & E 116 Street\n",
    "Hosted By : Department of Sanitation\n",
    "Open Months : Year Round\n",
    "Operation Hours : 24/7\n",
    "Website : www.nyc.gov/smartcomposting(opens in a new tab)\n",
    "Coordinates : Not specified\n",
    "Notes : Download the app to access bins. Accepts all food scraps, including meat and dairy. Do not leave food scraps outside of bin!\n",
    "Property 5 : Food Scrap Drop-off Site at Malcolm X FSDO\n",
    "\n",
    "Neighborhood : Corona\n",
    "Location : 111-26 Northern Blvd, Flushing, NY 11368\n",
    "Hosted By : NYC Compost Project Hosted by Big Reuse\n",
    "Open Months : Year Round\n",
    "Operation Hours : Tuesdays (Start Time: 12:00 PM - End Time: 2:00 PM)\n",
    "Website : Not specified\n",
    "Coordinates : Latitude 40.7496855, Longitude -73.8630721\n",
    "Notes : This site accepts all food scraps. Please compost responsibly.\n",
    "Property 6 : Food Scrap Drop-off Site at Astoria Pug\n",
    "\n",
    "Neighborhood : Astoria (North)-Ditmars-Steinway\n",
    "Location : Ditmars Boulevard and 41st Street\n",
    "Hosted By : Astoria Pug\n",
    "Open Months : Year Round\n",
    "Operation Hours : Mondays (Start Time: 8:00 AM - End Time: 2:00 PM)\n",
    "Website : Instagram(opens in a new tab)\n",
    "Coordinates : Latitude 40.7724122, Longitude -73.9053388\n",
    "Notes : Not accepted: meat, bones, or dairy. Please compost responsibly.\n",
    "Property 7 : Food Scrap Drop-off Site at Norwood\n",
    "\n",
    "Neighborhood : Norwood\n",
    "Location : SE Corner of Kings College Place & Gun Hill Rd.\n",
    "Hosted By : Department of Sanitation\n",
    "Open Months : Year Round\n",
    "Operation Hours : 24/7\n",
    "Website : www.nyc.gov/smartcomposting(opens in a new tab)\n",
    "Coordinates : Not specified\n",
    "Notes : Download the app to access bins. Accepts all food scraps, including meat and dairy. Do not leave food scraps outside of bin!\n",
    "Property 8 : Food Scrap Drop-off Site at Bedford-Stuyvesant (East)\n",
    "\n",
    "Neighborhood : Bedford-Stuyvesant (East)\n",
    "Location : NW Corner of Malcolm X Boulevard & Bainbridge Street\n",
    "Hosted By : Department of Sanitation\n",
    "Open Months : Year Round\n",
    "Operation Hours : 24/7\n",
    "Website : www.nyc.gov/smartcomposting(opens in a new tab)\n",
    "Coordinates : Not specified\n",
    "Notes : Download the app to access bins. Accepts all food scraps, including meat and dairy. Do not leave food scraps outside of bin!\n",
    "\"\"\""
   ]
  },
  {
   "cell_type": "code",
   "execution_count": 301,
   "id": "4584c69b",
   "metadata": {},
   "outputs": [],
   "source": [
    "questions = [\n",
    "    \"What is the food scrap drop-off site in Brooklyn?\",\n",
    "    \"Where can I drop off food scraps in Manhattan?\",\n",
    "    \"Are there any food scrap drop-off sites in Queens?\",\n",
    "    \"What are the hours of operation for food scrap drop-off sites in the Bronx?\",\n",
    "    \"Can I drop off food scraps in Staten Island?\",\n",
    "    \"Is there a food scrap drop-off site near me?\",\n",
    "]"
   ]
  },
  {
   "cell_type": "code",
   "execution_count": 303,
   "id": "9f22f35d",
   "metadata": {},
   "outputs": [
    {
     "name": "stdout",
     "output_type": "stream",
     "text": [
      "Please let me know if you have a question about our food scrap drop off sites.\n",
      "Unfortunately, there are no food scrap drop-off sites in Manhattan in the provided list. However, here are some available food scrap drop-off sites that might be of interest:\n",
      "1. Food Scrap Drop-off Site at Inwood\n",
      "2. Food Scrap Drop-off Site at East Harlem\n",
      "Yes, there is a food scrap drop-off site in Queens at Inwood, located at the SE Corner of Broadway & Academy Street. It is hosted by the Department of Sanitation and is open 24/7.\n",
      "The Bronx is not currently listed as a food scrap drop-off site.\n",
      "Please let me know if you have a question about our food scrap drop off sites.\n",
      "Yes, there are several food scrap drop-off sites available. Here is a list of available sites:\n",
      "1. Food Scrap Drop-off Site\n"
     ]
    }
   ],
   "source": [
    "\n",
    "chatbot_responses = []\n",
    "\n",
    "def get_only_response(response):\n",
    "  messages = [\n",
    "    {\n",
    "      \"role\": \"system\",\n",
    "      \"content\": \"Your task is to extract only the response to the user in the following full chatbot response: {response}\".format(response=response)\n",
    "    }\n",
    "  ]\n",
    "\n",
    "  return get_completion(messages)\n",
    "\n",
    "for question in questions:\n",
    "  messages=[\n",
    "    {\n",
    "      \"role\": \"system\",\n",
    "      \"content\": \"Your task is to answer questions factually about a nyc food scrap drop off sites, provided below and delimited by +++++. The user request is provided here: {request}\\n\\nStep 1: The first step is to check if the user is asking a question related to any type of food scrap drop off sites (even if that food scrap drop off sites is not on the list). If the question is about any type of food scrap drop off sites, we move on to Step 2 and ignore the rest of Step 1. If the question is not about food scrap drop off sites, then you send a response: \\\"Sorry! I cannot help with that. Please let me know if you have a question about our food scrap drop off sites.\\\"\\n\\nStep 2: In this step, you check that the user question is relevant to any of the items on the food scrap drop off sites. You should check that the food scrap drop off site exists in the food scrap drop off sites. If it doesn't exist then send a kind response to the user that the item doesn't exist in the exsisting food scrap drop off sites and then include a list of available but similar food scrap drop off sites without any other details (e.g., location). The food scrap drop off sites available are provided below and delimited by +++++: {Location}+++++\\n\\nStep 3: If the item exists in the food scrap drop off sites and the user is requesting specific information, provide that relevant information to the user using the food scrap drop off sites. Make sure to use a friendly tone and keep the response concise.\\n\\nPerform the following reasoning steps to send a response to the user:\\nStep 1: <Step 1 reasoning>\\nStep 2: <Step 2 reasoning>\\nResponse to the user (only output the final response): <response to user>\".format(request=question, food_scrap_drop_off_sites=prompt, Location=prompt)\n",
    "    }\n",
    "  ]\n",
    "\n",
    "  response = get_completion(messages)\n",
    "  chatbot_responses.append(response)\n",
    " \n",
    "  start_chain(\n",
    "    inputs={\"question\": question},\n",
    "    api_key=COMET_API_KEY,\n",
    "  )\n",
    "\n",
    "  with Span(\n",
    "    category=\"reasoning\",\n",
    "    name=\"chain-of-thought\",\n",
    "    inputs={\"user_question\": question},\n",
    "    ) as span:\n",
    "      span.set_outputs(outputs={\"full_response\": response})\n",
    "\n",
    "  with Span(\n",
    "    category=\"response-extraction\",\n",
    "    inputs={\n",
    "        \"user_question\": question,\n",
    "        \"full_response\": response,\n",
    "    },\n",
    "  ) as span:\n",
    "    final_response = get_only_response(response)\n",
    "    span.set_outputs(outputs={\"final_response\": final_response})\n",
    "\n",
    "  end_chain(outputs={\"final_response\": final_response})\n",
    "  print(final_response)"
   ]
  },
  {
   "cell_type": "code",
   "execution_count": 304,
   "id": "7a960b3f",
   "metadata": {},
   "outputs": [
    {
     "name": "stderr",
     "output_type": "stream",
     "text": [
      "\u001b[1;38;5;39mCOMET INFO:\u001b[0m ---------------------------------------------------------------------------------------\n",
      "\u001b[1;38;5;39mCOMET INFO:\u001b[0m Comet.ml Experiment Summary\n",
      "\u001b[1;38;5;39mCOMET INFO:\u001b[0m ---------------------------------------------------------------------------------------\n",
      "\u001b[1;38;5;39mCOMET INFO:\u001b[0m   Data:\n",
      "\u001b[1;38;5;39mCOMET INFO:\u001b[0m     display_summary_level : 1\n",
      "\u001b[1;38;5;39mCOMET INFO:\u001b[0m     name                  : live_resin_9268\n",
      "\u001b[1;38;5;39mCOMET INFO:\u001b[0m     url                   : https://www.comet.com/polarbeargo/build-custom-chatbot/305292f043f84e3d8f268ac1901e4ae8\n",
      "\u001b[1;38;5;39mCOMET INFO:\u001b[0m   Uploads:\n",
      "\u001b[1;38;5;39mCOMET INFO:\u001b[0m     environment details      : 1\n",
      "\u001b[1;38;5;39mCOMET INFO:\u001b[0m     filename                 : 1\n",
      "\u001b[1;38;5;39mCOMET INFO:\u001b[0m     git metadata             : 1\n",
      "\u001b[1;38;5;39mCOMET INFO:\u001b[0m     git-patch (uncompressed) : 1 (38.95 KB)\n",
      "\u001b[1;38;5;39mCOMET INFO:\u001b[0m     installed packages       : 1\n",
      "\u001b[1;38;5;39mCOMET INFO:\u001b[0m     notebook                 : 1\n",
      "\u001b[1;38;5;39mCOMET INFO:\u001b[0m     source_code              : 1\n",
      "\u001b[1;38;5;39mCOMET INFO:\u001b[0m     text-sample              : 16\n",
      "\u001b[1;38;5;39mCOMET INFO:\u001b[0m \n",
      "\u001b[1;38;5;214mCOMET WARNING:\u001b[0m To get all data logged automatically, import comet_ml before the following modules: sklearn, torch.\n"
     ]
    }
   ],
   "source": [
    "experiment.end()"
   ]
  }
 ],
 "metadata": {
  "kernelspec": {
   "display_name": "Python 3 (ipykernel)",
   "language": "python",
   "name": "python3"
  },
  "language_info": {
   "codemirror_mode": {
    "name": "ipython",
    "version": 3
   },
   "file_extension": ".py",
   "mimetype": "text/x-python",
   "name": "python",
   "nbconvert_exporter": "python",
   "pygments_lexer": "ipython3",
   "version": "3.9.6"
  }
 },
 "nbformat": 4,
 "nbformat_minor": 5
}
